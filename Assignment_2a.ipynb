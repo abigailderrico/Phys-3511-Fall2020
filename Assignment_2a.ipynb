{
 "cells": [
  {
   "cell_type": "markdown",
   "metadata": {},
   "source": [
    "# Assignment 2a Due\n",
    "\n",
    "In this assigment you will explore and become familiar with writing and using algorithms to numerically approxomate definite integrals.\n",
    "\n",
    "Assignment Overview:\n",
    "* Impliment your own midpoint, trapazoid, and Simpson's rule integration algorithms\n",
    "* Use those to solve a definite integral\n",
    "* Compare your algorithms to those from scipy\n",
    "* Compare all approximate solutions to the exact solutions\n"
   ]
  },
  {
   "cell_type": "markdown",
   "metadata": {},
   "source": [
    "You can import only the following packages: numpy, math, scipy, matplotlib.pyplot"
   ]
  },
  {
   "cell_type": "code",
   "execution_count": 1,
   "metadata": {},
   "outputs": [],
   "source": [
    "#your import cell\n",
    "import numpy as np\n",
    "import math\n",
    "import scipy.integrate\n",
    "import matplotlib.pyplot as plt\n"
   ]
  },
  {
   "cell_type": "markdown",
   "metadata": {},
   "source": [
    "Now we can define our integration algorithms"
   ]
  },
  {
   "cell_type": "code",
   "execution_count": 2,
   "metadata": {},
   "outputs": [],
   "source": [
    "#define midpoint rule\n",
    "def midpoint():\n",
    "    z = (b - a) / n\n",
    "    l = 0\n",
    "    for j in range(0,n):\n",
    "        x = z/2 + j * z\n",
    "        m = f(x) * z\n",
    "        l = l + m\n",
    "    ll = str(l)\n",
    "    print('Midpoint: ' + ll)\n",
    "    result = l"
   ]
  },
  {
   "cell_type": "code",
   "execution_count": 3,
   "metadata": {},
   "outputs": [],
   "source": [
    "#define trapazoidal rule\n",
    "def trapezoid():\n",
    "    z = (b - a) / n\n",
    "    l = 0\n",
    "    for j in range(0,n):\n",
    "        b1 = j * z\n",
    "        b2 = (j + 1) * z\n",
    "        m = z * (f(b1) + f(b2)) / 2\n",
    "        l = l + m\n",
    "        j = f(b1)\n",
    "    l = str(l)\n",
    "    result = l\n",
    "    print('Trapezoid: ' + l)"
   ]
  },
  {
   "cell_type": "code",
   "execution_count": 4,
   "metadata": {},
   "outputs": [],
   "source": [
    "#define simpson's rule\n",
    "def simpsons():\n",
    "    z = (b - a) / n\n",
    "    A = (z/3) * (f(a) + (4 * f(a+z)) + (2 * f(a+(2*z))) + (4 * f(a+(3*z))) + (2 * f(a+(4*z))) + (4 * f(a+(5*z))) + f(b))\n",
    "    k = a + (z * 6)\n",
    "    A = str(A)\n",
    "    result = A\n",
    "    print('Simpsons: ' + A)    "
   ]
  },
  {
   "cell_type": "markdown",
   "metadata": {},
   "source": [
    "# Question \n",
    "Sanity checking your code is very important. How can you check that your functions are working properly?"
   ]
  },
  {
   "cell_type": "markdown",
   "metadata": {},
   "source": []
  },
  {
   "cell_type": "markdown",
   "metadata": {},
   "source": [
    "For this notebook assigment we would like to solve the integral\\\n",
    "$\\int_{a}^{b} \\frac{2}{(2^2 + x^2)^{3/2}}dx$"
   ]
  },
  {
   "cell_type": "markdown",
   "metadata": {},
   "source": [
    "# Question\n",
    "Have you seen an integral like this before in physics? From where?"
   ]
  },
  {
   "cell_type": "markdown",
   "metadata": {},
   "source": []
  },
  {
   "cell_type": "markdown",
   "metadata": {},
   "source": [
    "Solve the above integral using the numerical integrations that you wrote. When defining the function we will integrate over do so using python's **lambda** function.\n",
    "\n",
    "For the integration take $a = 0,\\; b = 2,\\;$ and we will split it up into 6 partitions."
   ]
  },
  {
   "cell_type": "markdown",
   "metadata": {},
   "source": [
    "# Question\n",
    "What is the exact solution?"
   ]
  },
  {
   "cell_type": "code",
   "execution_count": 5,
   "metadata": {},
   "outputs": [
    {
     "name": "stdout",
     "output_type": "stream",
     "text": [
      "0.35355339059327373\n"
     ]
    }
   ],
   "source": [
    "#exact solution to the integral\n",
    "w = 1/(2*math.sqrt(2))\n",
    "print(w)"
   ]
  },
  {
   "cell_type": "code",
   "execution_count": 6,
   "metadata": {},
   "outputs": [
    {
     "name": "stdout",
     "output_type": "stream",
     "text": [
      "Midpoint: 0.3538599754585315\n",
      "Trapezoid: 0.35293994641413146\n",
      "Simpsons: 0.3535517906244493\n"
     ]
    }
   ],
   "source": [
    "##### solve the integral using your integration functions\n",
    "a = 0\n",
    "b = 2\n",
    "n = 6\n",
    "def f(x):\n",
    "    return 2 / (4 + x**2) ** (3/2)\n",
    "midpoint()\n",
    "trapezoid()\n",
    "simpsons()"
   ]
  },
  {
   "cell_type": "markdown",
   "metadata": {},
   "source": [
    "Use the trapz and simps methods from scipy's integration library to solve the integral.\n",
    "\n",
    "Note: Shit+tab at the end of a function in jupyter notebook reveals lots of information about the function."
   ]
  },
  {
   "cell_type": "code",
   "execution_count": 7,
   "metadata": {},
   "outputs": [
    {
     "name": "stdout",
     "output_type": "stream",
     "text": [
      "Scipy Trapz: 0.35293994641413146\n",
      "Scipy Simps: 0.35355179062444925\n"
     ]
    }
   ],
   "source": [
    "#scipy integration\n",
    "arr = np.array([])\n",
    "for j in range(0,n):\n",
    "    z = (b - a) / n\n",
    "    j = a + (z * j)\n",
    "    j = f(j)\n",
    "    arr = np.append(arr,j)\n",
    "m = f(b)\n",
    "arr = np.append(arr,m)\n",
    "u = scipy.integrate.trapz(arr, dx=z, axis=- 1)\n",
    "v = scipy.integrate.simps(arr, dx=z, axis=- 1)\n",
    "u = str(u)\n",
    "v = str(v)\n",
    "print('Scipy Trapz: ' + u)\n",
    "print('Scipy Simps: ' + v)"
   ]
  },
  {
   "cell_type": "markdown",
   "metadata": {},
   "source": [
    "# Question\n",
    "How do scipy integrals compare to yours? Support your answer. "
   ]
  },
  {
   "cell_type": "markdown",
   "metadata": {},
   "source": []
  },
  {
   "cell_type": "code",
   "execution_count": 8,
   "metadata": {},
   "outputs": [
    {
     "name": "stdout",
     "output_type": "stream",
     "text": [
      "Midpoint: 0.3538599754585315\n",
      "Trapezoid: 0.35293994641413146\n",
      "Scipy Trapz: 0.35293994641413146\n",
      "Simpsons: 0.3535517906244493\n",
      "Scipy Simps: 0.35355179062444925\n"
     ]
    }
   ],
   "source": [
    "#print the numerical values\n",
    "midpoint()\n",
    "trapezoid()\n",
    "print('Scipy Trapz: ' + u)\n",
    "simpsons()\n",
    "print('Scipy Simps: ' + v)"
   ]
  },
  {
   "cell_type": "markdown",
   "metadata": {},
   "source": [
    "Numerically compare your midpoint, trapazoid, and Simpson method results to the exact value by calculating the quantity (approx - exact) / exact for each method. "
   ]
  },
  {
   "cell_type": "code",
   "execution_count": 10,
   "metadata": {},
   "outputs": [
    {
     "name": "stdout",
     "output_type": "stream",
     "text": [
      "Midpoint Comparison: 0.0008671529489316845\n",
      "Trapezoid Comparison: -0.001735082155803672\n",
      "Simpsons Comparison: -4.525395221761466e-06\n"
     ]
    }
   ],
   "source": [
    "#numerical comparisons\n",
    "mp = 0.3538599754585315\n",
    "mr = (mp - w) / w\n",
    "mtr = str(mr)\n",
    "print('Midpoint Comparison: ' + mtr)\n",
    "\n",
    "tp = 0.35293994641413146\n",
    "tr = (tp - w) / w\n",
    "ttr = str(tr)\n",
    "print('Trapezoid Comparison: ' + ttr)\n",
    "\n",
    "sp = 0.3535517906244493\n",
    "sr = (sp - w) / w\n",
    "str = str(sr)\n",
    "print('Simpsons Comparison: ' + str)\n"
   ]
  },
  {
   "cell_type": "markdown",
   "metadata": {},
   "source": [
    "# Question\n",
    "Which method provides the best approximation to the exact solution?"
   ]
  },
  {
   "cell_type": "markdown",
   "metadata": {},
   "source": []
  },
  {
   "cell_type": "markdown",
   "metadata": {},
   "source": [
    "It is often useful to represent the data graphically. Make a scatter plot showing the percent difference $100 \\times \\frac{approx. - exact}{exact}$ vs. integration method. Integration method on your x-axis should be strings such as *midpoint, trapazoid, and Simpson*. You should also draw on your plot a line at *y = 0*, which will help guide the eye where the perfect approximation (the exact solution) would sit. "
   ]
  },
  {
   "cell_type": "code",
   "execution_count": 21,
   "metadata": {
    "scrolled": false
   },
   "outputs": [
    {
     "name": "stdout",
     "output_type": "stream",
     "text": [
      "[0.3538599754585315, 0.35293994641413146, 0.3535517906244493]\n",
      "[ 0.08671529 -0.17350822 -0.00045254]\n"
     ]
    },
    {
     "data": {
      "image/png": "[encoded data removed]",
      "text/plain": [
       "<Figure size 432x288 with 1 Axes>"
      ]
     },
     "metadata": {
      "needs_background": "light"
     },
     "output_type": "display_data"
    }
   ],
   "source": [
    "#plot\n",
    "xvalues = [mp,tp,sp]\n",
    "print(xvalues)\n",
    "yvalues = [mr,tr,sr]\n",
    "yvalues = np.array(yvalues)\n",
    "yvalues = yvalues * 100\n",
    "labels = ['Midpoint', 'Trapezoid', 'Simpson']\n",
    "print(yvalues)\n",
    "plt.scatter(xvalues, yvalues)\n",
    "plt.xticks(xvalues, labels)\n",
    "plt.xlim(0.35292,0.3539)\n",
    "xx = np.linspace(0, 10, 1000)\n",
    "plt.plot(xx, xx * 0)\n",
    "plt.title('Percent error for each approximation')\n",
    "plt.ylabel('Percent error')\n",
    "plt.xlabel('Approximation method')\n",
    "plt.show()"
   ]
  },
  {
   "cell_type": "markdown",
   "metadata": {},
   "source": [
    "Using the scipy *quad* integration method, approximate the following integral\n",
    "\n",
    "$$\\int_{-\\infty}^{\\infty} e^{-x^{2}} dx$$\n",
    "\n",
    "Hint: Reference <a href=\"https://numpy.org/\">numpy</a> and see what it has to offer in terms of functions and *special* values"
   ]
  },
  {
   "cell_type": "code",
   "execution_count": 26,
   "metadata": {},
   "outputs": [
    {
     "ename": "NameError",
     "evalue": "name 'x' is not defined",
     "output_type": "error",
     "traceback": [
      "\u001b[1;31m---------------------------------------------------------------------------\u001b[0m",
      "\u001b[1;31mNameError\u001b[0m                                 Traceback (most recent call last)",
      "\u001b[1;32m<ipython-input-26-f5302f222671>\u001b[0m in \u001b[0;36m<module>\u001b[1;34m\u001b[0m\n\u001b[0;32m      2\u001b[0m \u001b[1;32mdef\u001b[0m \u001b[0mf\u001b[0m\u001b[1;33m(\u001b[0m\u001b[0mx\u001b[0m\u001b[1;33m)\u001b[0m\u001b[1;33m:\u001b[0m\u001b[1;33m\u001b[0m\u001b[1;33m\u001b[0m\u001b[0m\n\u001b[0;32m      3\u001b[0m     \u001b[0mresult\u001b[0m \u001b[1;33m=\u001b[0m \u001b[0mmath\u001b[0m\u001b[1;33m.\u001b[0m\u001b[0mexp\u001b[0m\u001b[1;33m(\u001b[0m\u001b[1;33m-\u001b[0m\u001b[1;36m1\u001b[0m \u001b[1;33m*\u001b[0m \u001b[0mx\u001b[0m\u001b[1;33m)\u001b[0m \u001b[1;33m**\u001b[0m \u001b[1;36m2\u001b[0m\u001b[1;33m\u001b[0m\u001b[1;33m\u001b[0m\u001b[0m\n\u001b[1;32m----> 4\u001b[1;33m \u001b[0mscipy\u001b[0m\u001b[1;33m.\u001b[0m\u001b[0mintegrate\u001b[0m\u001b[1;33m.\u001b[0m\u001b[0mquad\u001b[0m\u001b[1;33m(\u001b[0m\u001b[0mf\u001b[0m\u001b[1;33m(\u001b[0m\u001b[0mx\u001b[0m\u001b[1;33m)\u001b[0m\u001b[1;33m,\u001b[0m \u001b[1;33m-\u001b[0m\u001b[0mnp\u001b[0m\u001b[1;33m.\u001b[0m\u001b[0minf\u001b[0m\u001b[1;33m,\u001b[0m \u001b[0mnp\u001b[0m\u001b[1;33m.\u001b[0m\u001b[0minf\u001b[0m\u001b[1;33m)\u001b[0m\u001b[1;33m\u001b[0m\u001b[1;33m\u001b[0m\u001b[0m\n\u001b[0m",
      "\u001b[1;31mNameError\u001b[0m: name 'x' is not defined"
     ]
    }
   ],
   "source": [
    "#solve integral above\n",
    "def f(x):\n",
    "    result = math.exp(-1 * x) ** 2\n",
    "scipy.integrate.quad(f(x), -np.inf, np.inf)\n"
   ]
  },
  {
   "cell_type": "markdown",
   "metadata": {},
   "source": [
    "# Question\n",
    "If you square your solution, does the resulting number have any special meaning?"
   ]
  },
  {
   "cell_type": "markdown",
   "metadata": {},
   "source": []
  }
 ],
 "metadata": {
  "kernelspec": {
   "display_name": "Python 3",
   "language": "python",
   "name": "python3"
  },
  "language_info": {
   "codemirror_mode": {
    "name": "ipython",
    "version": 3
   },
   "file_extension": ".py",
   "mimetype": "text/x-python",
   "name": "python",
   "nbconvert_exporter": "python",
   "pygments_lexer": "ipython3",
   "version": "3.7.4"
  }
 },
 "nbformat": 4,
 "nbformat_minor": 4
}
