{
 "cells": [
  {
   "cell_type": "markdown",
   "metadata": {},
   "source": [
    "# Assignment 01: Due 09/02\n",
    "\n",
    "For this assignment you can use the following packages\n",
    "- numpy\n",
    "- mtplotlib\n",
    "- There is a python math module. This would be imported as\n",
    "  - > import math  \n",
    "  \n",
    "Before final sumbission it is a good idea to click on 'Kernel' --> 'Restart & Run All' to make sure your entire notebook runs correctly. It is easy to accidetly modify a value you did not intend to."
   ]
  },
  {
   "cell_type": "code",
   "execution_count": 1,
   "metadata": {},
   "outputs": [],
   "source": [
    "#import the packages here\n",
    "import numpy as np\n",
    "import matplotlib as mlib\n",
    "import math"
   ]
  },
  {
   "cell_type": "markdown",
   "metadata": {},
   "source": [
    "## Problem 1\n",
    "(Problem adapted from scipy.com)\n",
    "\n",
    "Stirling's Approximation for $ln(n!)$ is:\n",
    "\n",
    "\\begin{equation}\n",
    "ln(n!) \\approx nln(n) − n.\n",
    "\\end{equation}\n",
    "\n",
    "Write a program to output $ln(n!)$ and its Stirling's approximation for $2 < n < 20$. Plot on the same graph the exact value and the approximate value as a function of n. Be sure to lable your curves and axes. **Hint**: the math module (and numpy.math) provides a factorial() method.\n"
   ]
  },
  {
   "cell_type": "code",
   "execution_count": 2,
   "metadata": {},
   "outputs": [
    {
     "data": {
      "image/png": "[encoded data removed]",
      "text/plain": [
       "<Figure size 432x288 with 1 Axes>"
      ]
     },
     "metadata": {
      "needs_background": "light"
     },
     "output_type": "display_data"
    }
   ],
   "source": [
    "import math\n",
    "og_list = []\n",
    "appx_list = []\n",
    "n = list(range(2,20))\n",
    "\n",
    "for x in n:\n",
    "    z = math.factorial(x)\n",
    "    og_list.append(math.log(z))\n",
    "\n",
    "for x in n:\n",
    "    appx_list.append((x * math.log(x)) - x)\n",
    "\n",
    "from matplotlib import pyplot as plt\n",
    "%matplotlib inline\n",
    "x = n\n",
    "y1 = og_list\n",
    "y2 = appx_list\n",
    "plt.xlabel('n')\n",
    "plt.ylabel('Output')\n",
    "plt.title('Comparison of ln(n!) and Stirlings Approximation')\n",
    "plt.plot(x,y1,label='ln(n!)')\n",
    "plt.plot(x,y2,label='Stirlings Approximation')\n",
    "plt.legend()\n",
    "plt.show()"
   ]
  },
  {
   "cell_type": "markdown",
   "metadata": {},
   "source": [
    "Now modify the program to output $ln(n!)$, Stirling's approximation, and the relative error in the approximation, for only the first value of n for which the relative error in the approximation, (exact-approx)/exact,  is less than 1%. Your out put should quote number to 3 decimal places. **Hint**: You may need to increase your n value and you may get an error message. Can you determine why you get an error and how to correctly make this comparison? "
   ]
  },
  {
   "cell_type": "code",
   "execution_count": 3,
   "metadata": {},
   "outputs": [
    {
     "name": "stdout",
     "output_type": "stream",
     "text": [
      "ln(n!) at 90 = 318.153\n",
      "Stirlings Approximation at 90 = 314.983\n",
      "The relative error at 90 = 0.009963759574795823, which does not round to three decimal places, rather two: 0.01\n"
     ]
    }
   ],
   "source": [
    "x = 2\n",
    "a = 1\n",
    "while a == 1:\n",
    "    def og(x):\n",
    "        h = math.log(math.factorial(x))\n",
    "        i = round(h,3)\n",
    "        return i\n",
    "    \n",
    "    def appx(x):\n",
    "        k = x * math.log(x) - x\n",
    "        j = round(k,3)\n",
    "        return j\n",
    "\n",
    "    n = (og(x) - appx(x)) / og(x)\n",
    "    m = round(n,3)\n",
    "\n",
    "    if n > .01:\n",
    "        x = x + 1\n",
    "    if n < .01:\n",
    "        a = 3\n",
    "        z = og(x)\n",
    "        z = str(z)\n",
    "        y = appx(x)\n",
    "        x = str(x)\n",
    "        y = str(y)\n",
    "        n = str(n)\n",
    "        m = str(m)\n",
    "        print('ln(n!) at ' + x + ' = ' + z)\n",
    "        print('Stirlings Approximation at ' + x + ' = ' + y)\n",
    "        print('The relative error at ' + x + ' = ' + n + ', which does not round to three decimal places, rather two: ' + m)"
   ]
  },
  {
   "cell_type": "markdown",
   "metadata": {},
   "source": [
    "## Problem 2\n",
    "Create a numpy array of 100 7's."
   ]
  },
  {
   "cell_type": "code",
   "execution_count": 4,
   "metadata": {},
   "outputs": [
    {
     "data": {
      "text/plain": [
       "array([7, 7, 7, 7, 7, 7, 7, 7, 7, 7, 7, 7, 7, 7, 7, 7, 7, 7, 7, 7, 7, 7,\n",
       "       7, 7, 7, 7, 7, 7, 7, 7, 7, 7, 7, 7, 7, 7, 7, 7, 7, 7, 7, 7, 7, 7,\n",
       "       7, 7, 7, 7, 7, 7, 7, 7, 7, 7, 7, 7, 7, 7, 7, 7, 7, 7, 7, 7, 7, 7,\n",
       "       7, 7, 7, 7, 7, 7, 7, 7, 7, 7, 7, 7, 7, 7, 7, 7, 7, 7, 7, 7, 7, 7,\n",
       "       7, 7, 7, 7, 7, 7, 7, 7, 7, 7, 7, 7])"
      ]
     },
     "execution_count": 4,
     "metadata": {},
     "output_type": "execute_result"
    }
   ],
   "source": [
    "np.full((100), 7)"
   ]
  },
  {
   "cell_type": "markdown",
   "metadata": {},
   "source": [
    "## Problem 3\n",
    "Given the numpy array below. Write a print statement that prints the array below for all values that are larger than 5."
   ]
  },
  {
   "cell_type": "code",
   "execution_count": 5,
   "metadata": {},
   "outputs": [
    {
     "name": "stdout",
     "output_type": "stream",
     "text": [
      "[ 5  0  3  3  7  9  3  5  2  4  7  6  8  8 10  1  6  7  7  8  1  5  9  8\n",
      "  9  4  3  0  3  5  0  2  3  8  1  3  3  3  7  0  1  9  9  0 10  4  7  3\n",
      "  2  7]\n"
     ]
    }
   ],
   "source": [
    "np.random.seed(0)\n",
    "arr = np.random.randint(0,11,50)\n",
    "print(arr)"
   ]
  },
  {
   "cell_type": "code",
   "execution_count": 6,
   "metadata": {},
   "outputs": [
    {
     "data": {
      "text/plain": [
       "array([ 7,  9,  7,  6,  8,  8, 10,  6,  7,  7,  8,  9,  8,  9,  8,  7,  9,\n",
       "        9, 10,  7,  7])"
      ]
     },
     "execution_count": 6,
     "metadata": {},
     "output_type": "execute_result"
    }
   ],
   "source": [
    "bool_arr = arr > 5\n",
    "arr[bool_arr]"
   ]
  },
  {
   "cell_type": "markdown",
   "metadata": {},
   "source": [
    "## Problem 4\n",
    "Write a print statement that prints the below array with all values of '3' removed."
   ]
  },
  {
   "cell_type": "code",
   "execution_count": 7,
   "metadata": {},
   "outputs": [
    {
     "name": "stdout",
     "output_type": "stream",
     "text": [
      "[4 5 0 3 3 3 1 3 5 2 4 0 0 4 2 1 0 1 5 1]\n"
     ]
    }
   ],
   "source": [
    "np.random.seed(0)\n",
    "arr2 = np.random.randint(0,6,20)\n",
    "print(arr2)"
   ]
  },
  {
   "cell_type": "code",
   "execution_count": 8,
   "metadata": {},
   "outputs": [
    {
     "data": {
      "text/plain": [
       "array([4, 5, 0, 1, 5, 2, 4, 0, 0, 4, 2, 1, 0, 1, 5, 1])"
      ]
     },
     "execution_count": 8,
     "metadata": {},
     "output_type": "execute_result"
    }
   ],
   "source": [
    "bool_arr2 = arr2 != 3\n",
    "arr2[bool_arr2]"
   ]
  },
  {
   "cell_type": "markdown",
   "metadata": {},
   "source": [
    "## Problem 5a\n",
    "Use numpy *random.randn()* to create a random 2D matrix array, that has 1000 entries in each dimension. When genereating the random values set the randome seed to zero. \n",
    "\n",
    "Fixing a seed will ensure that the same *random* values are generated eveytime you run the cell. You can try removing the seed specification and you will notice you get different random number generations each time you run the cell. In genral it is good practice to fix the seed when debugging your code.\n"
   ]
  },
  {
   "cell_type": "code",
   "execution_count": 9,
   "metadata": {},
   "outputs": [
    {
     "name": "stdout",
     "output_type": "stream",
     "text": [
      "[[0.5488135  0.71518937 0.60276338 ... 0.93841202 0.22864655 0.67714114]\n",
      " [0.59288027 0.0100637  0.4758262  ... 0.48010781 0.64386404 0.50177313]\n",
      " [0.81151847 0.47608399 0.52315599 ... 0.32361371 0.81354502 0.69740038]\n",
      " ...\n",
      " [0.74409418 0.76228244 0.75879012 ... 0.30599848 0.1697848  0.76874703]\n",
      " [0.65662553 0.21153798 0.44353269 ... 0.11692285 0.69902957 0.65291648]\n",
      " [0.38152085 0.04241821 0.33723162 ... 0.36259133 0.51650652 0.90860588]]\n"
     ]
    }
   ],
   "source": [
    "np.random.seed(0)\n",
    "arr = np.random.rand(1000,1000)\n",
    "print(arr)"
   ]
  },
  {
   "cell_type": "markdown",
   "metadata": {},
   "source": [
    "## Problem 5b\n",
    "Create a plot that contains two subplots (one row tow pots). In each sub plot make a histogram of x and y random values from your matrix created in part a. Be sure to label your axes. The histograms will allow us to see how our data is distributed."
   ]
  },
  {
   "cell_type": "code",
   "execution_count": 15,
   "metadata": {},
   "outputs": [
    {
     "name": "stdout",
     "output_type": "stream",
     "text": [
      "[0.         0.01010101 0.02020202 0.03030303 0.04040404 0.05050505\n",
      " 0.06060606 0.07070707 0.08080808 0.09090909 0.1010101  0.11111111\n",
      " 0.12121212 0.13131313 0.14141414 0.15151515 0.16161616 0.17171717\n",
      " 0.18181818 0.19191919 0.2020202  0.21212121 0.22222222 0.23232323\n",
      " 0.24242424 0.25252525 0.26262626 0.27272727 0.28282828 0.29292929\n",
      " 0.3030303  0.31313131 0.32323232 0.33333333 0.34343434 0.35353535\n",
      " 0.36363636 0.37373737 0.38383838 0.39393939 0.4040404  0.41414141\n",
      " 0.42424242 0.43434343 0.44444444 0.45454545 0.46464646 0.47474747\n",
      " 0.48484848 0.49494949]\n",
      "[0.50505051 0.51515152 0.52525253 0.53535354 0.54545455 0.55555556\n",
      " 0.56565657 0.57575758 0.58585859 0.5959596  0.60606061 0.61616162\n",
      " 0.62626263 0.63636364 0.64646465 0.65656566 0.66666667 0.67676768\n",
      " 0.68686869 0.6969697  0.70707071 0.71717172 0.72727273 0.73737374\n",
      " 0.74747475 0.75757576 0.76767677 0.77777778 0.78787879 0.7979798\n",
      " 0.80808081 0.81818182 0.82828283 0.83838384 0.84848485 0.85858586\n",
      " 0.86868687 0.87878788 0.88888889 0.8989899  0.90909091 0.91919192\n",
      " 0.92929293 0.93939394 0.94949495 0.95959596 0.96969697 0.97979798\n",
      " 0.98989899 1.        ]\n"
     ]
    },
    {
     "data": {
      "image/png": "[encoded data removed]",
      "text/plain": [
       "<Figure size 432x288 with 1 Axes>"
      ]
     },
     "metadata": {
      "needs_background": "light"
     },
     "output_type": "display_data"
    },
    {
     "data": {
      "image/png": "[encoded data removed]",
      "text/plain": [
       "<Figure size 432x288 with 1 Axes>"
      ]
     },
     "metadata": {
      "needs_background": "light"
     },
     "output_type": "display_data"
    }
   ],
   "source": [
    "import matplotlib.pyplot as plt\n",
    "\n",
    "a,b = np.split(arr,2)\n",
    "print(a)\n",
    "print(b)\n",
    "\n",
    "x = a\n",
    "plt.hist(x, bins = 10)\n",
    "plt.show()\n",
    "\n",
    "y = b\n",
    "plt.hist(b, bins = 10)\n",
    "plt.show()"
   ]
  },
  {
   "cell_type": "markdown",
   "metadata": {},
   "source": [
    "## Problem 5c\n",
    "Now make a x-y scatter plot of your 2D matrix from part a. Each axis should contain one matrix dimension. Be sure to label your axes. This will allow us to see if there are any obious correlations or dependencies on one another in our data."
   ]
  },
  {
   "cell_type": "code",
   "execution_count": null,
   "metadata": {},
   "outputs": [],
   "source": []
  },
  {
   "cell_type": "markdown",
   "metadata": {},
   "source": [
    "## Problem 5d\n",
    "The scatter plot form part c is good for investigating dependencies, but it is often hard to judge the density of the data, i.e. how much of our data is at a particular x-y range. To see this more clearly we can make a 2D histogram plot, where color corresponding to a 2D bin changes based on the number of counts in it.\n",
    "\n",
    "Make a 2D histogram of your 2D matrix from part a."
   ]
  },
  {
   "cell_type": "code",
   "execution_count": null,
   "metadata": {},
   "outputs": [],
   "source": []
  },
  {
   "cell_type": "markdown",
   "metadata": {},
   "source": [
    "## Problem 6\n",
    "\n",
    "Using *linspace* Generate 100 equally spaced points from 0 to 1. Then plot the cube of the values generated from *linespace* vs the *linspace* generated values."
   ]
  },
  {
   "cell_type": "code",
   "execution_count": 12,
   "metadata": {},
   "outputs": [
    {
     "name": "stdout",
     "output_type": "stream",
     "text": [
      "[0.         0.01010101 0.02020202 0.03030303 0.04040404 0.05050505\n",
      " 0.06060606 0.07070707 0.08080808 0.09090909 0.1010101  0.11111111\n",
      " 0.12121212 0.13131313 0.14141414 0.15151515 0.16161616 0.17171717\n",
      " 0.18181818 0.19191919 0.2020202  0.21212121 0.22222222 0.23232323\n",
      " 0.24242424 0.25252525 0.26262626 0.27272727 0.28282828 0.29292929\n",
      " 0.3030303  0.31313131 0.32323232 0.33333333 0.34343434 0.35353535\n",
      " 0.36363636 0.37373737 0.38383838 0.39393939 0.4040404  0.41414141\n",
      " 0.42424242 0.43434343 0.44444444 0.45454545 0.46464646 0.47474747\n",
      " 0.48484848 0.49494949 0.50505051 0.51515152 0.52525253 0.53535354\n",
      " 0.54545455 0.55555556 0.56565657 0.57575758 0.58585859 0.5959596\n",
      " 0.60606061 0.61616162 0.62626263 0.63636364 0.64646465 0.65656566\n",
      " 0.66666667 0.67676768 0.68686869 0.6969697  0.70707071 0.71717172\n",
      " 0.72727273 0.73737374 0.74747475 0.75757576 0.76767677 0.77777778\n",
      " 0.78787879 0.7979798  0.80808081 0.81818182 0.82828283 0.83838384\n",
      " 0.84848485 0.85858586 0.86868687 0.87878788 0.88888889 0.8989899\n",
      " 0.90909091 0.91919192 0.92929293 0.93939394 0.94949495 0.95959596\n",
      " 0.96969697 0.97979798 0.98989899 1.        ]\n"
     ]
    }
   ],
   "source": [
    "arr = np.linspace(0,1,100)\n",
    "print(arr)"
   ]
  },
  {
   "cell_type": "code",
   "execution_count": 13,
   "metadata": {},
   "outputs": [
    {
     "name": "stdout",
     "output_type": "stream",
     "text": [
      "[0.00000000e+00 1.03061015e-06 8.24488122e-06 2.78264741e-05\n",
      " 6.59590497e-05 1.28826269e-04 2.22611793e-04 3.53499282e-04\n",
      " 5.27672398e-04 7.51314801e-04 1.03061015e-03 1.37174211e-03\n",
      " 1.78089434e-03 2.26425050e-03 2.82799426e-03 3.47830926e-03\n",
      " 4.22137918e-03 5.06338768e-03 6.01051841e-03 7.06895503e-03\n",
      " 8.24488122e-03 9.54448062e-03 1.09739369e-02 1.25394337e-02\n",
      " 1.42471547e-02 1.61032836e-02 1.81140040e-02 2.02854996e-02\n",
      " 2.26239541e-02 2.51355510e-02 2.78264741e-02 3.07029070e-02\n",
      " 3.37710335e-02 3.70370370e-02 4.05071014e-02 4.41874103e-02\n",
      " 4.80841473e-02 5.22034960e-02 5.65516403e-02 6.11347636e-02\n",
      " 6.59590497e-02 7.10306823e-02 7.63558450e-02 8.19407214e-02\n",
      " 8.77914952e-02 9.39143501e-02 1.00315470e-01 1.07001038e-01\n",
      " 1.13977238e-01 1.21250254e-01 1.28826269e-01 1.36711467e-01\n",
      " 1.44912032e-01 1.53434148e-01 1.62283997e-01 1.71467764e-01\n",
      " 1.80991632e-01 1.90861786e-01 2.01084408e-01 2.11665682e-01\n",
      " 2.22611793e-01 2.33928923e-01 2.45623256e-01 2.57700977e-01\n",
      " 2.70168268e-01 2.83031313e-01 2.96296296e-01 3.09969401e-01\n",
      " 3.24056811e-01 3.38564710e-01 3.53499282e-01 3.68866710e-01\n",
      " 3.84673178e-01 4.00924870e-01 4.17627968e-01 4.34788658e-01\n",
      " 4.52413122e-01 4.70507545e-01 4.89078109e-01 5.08130999e-01\n",
      " 5.27672398e-01 5.47708490e-01 5.68245458e-01 5.89289487e-01\n",
      " 6.10846760e-01 6.32923460e-01 6.55525771e-01 6.78659877e-01\n",
      " 7.02331962e-01 7.26548208e-01 7.51314801e-01 7.76637923e-01\n",
      " 8.02523758e-01 8.28978490e-01 8.56008303e-01 8.83619379e-01\n",
      " 9.11817904e-01 9.40610059e-01 9.70002030e-01 1.00000000e+00]\n"
     ]
    }
   ],
   "source": [
    "new_arr = arr * arr * arr\n",
    "print(new_arr)"
   ]
  },
  {
   "cell_type": "code",
   "execution_count": 14,
   "metadata": {},
   "outputs": [
    {
     "data": {
      "image/png": "[encoded data removed]",
      "text/plain": [
       "<Figure size 432x288 with 1 Axes>"
      ]
     },
     "metadata": {
      "needs_background": "light"
     },
     "output_type": "display_data"
    }
   ],
   "source": [
    "from matplotlib import pyplot as plt\n",
    "%matplotlib inline\n",
    "x = arr\n",
    "y = new_arr\n",
    "plt.xlabel('Generated values')\n",
    "plt.ylabel('Cubes')\n",
    "plt.title('Graph of arrays')\n",
    "plt.plot(x,y)\n",
    "plt.show()\n"
   ]
  },
  {
   "cell_type": "code",
   "execution_count": null,
   "metadata": {},
   "outputs": [],
   "source": []
  }
 ],
 "metadata": {
  "kernelspec": {
   "display_name": "Python 3",
   "language": "python",
   "name": "python3"
  },
  "language_info": {
   "codemirror_mode": {
    "name": "ipython",
    "version": 3
   },
   "file_extension": ".py",
   "mimetype": "text/x-python",
   "name": "python",
   "nbconvert_exporter": "python",
   "pygments_lexer": "ipython3",
   "version": "3.7.4"
  }
 },
 "nbformat": 4,
 "nbformat_minor": 4
}
