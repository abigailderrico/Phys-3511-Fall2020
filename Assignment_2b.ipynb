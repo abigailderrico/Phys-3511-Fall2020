{
 "cells": [
  {
   "cell_type": "markdown",
   "metadata": {},
   "source": [
    "# Assignment 2b Due: 9/14"
   ]
  },
  {
   "cell_type": "markdown",
   "metadata": {},
   "source": [
    "Please submit this assignment as Assignment2b_FirstName_LastName\n",
    "\n",
    "In this assignment you will explore fitting data and assessing how well your fit describes the different data sets.\n",
    "\n",
    "Assignment Overview:\n",
    "* Fit data and use $\\chi^2$ and the $\\chi^2$ test to assess \n",
    "* Analyze the efficiency of your data provided differnt threshold levels using your fit results \n",
    "\n",
    "For this assingment you can make use of the numpy, matplotlib, and the scipy packages."
   ]
  },
  {
   "cell_type": "code",
   "execution_count": 1,
   "metadata": {},
   "outputs": [],
   "source": [
    "#specify imports here\n",
    "import numpy as np\n",
    "import matplotlib.pyplot as plt\n",
    "import scipy\n",
    "import scipy.special\n",
    "import scipy.optimize\n",
    "import scipy.integrate"
   ]
  },
  {
   "cell_type": "markdown",
   "metadata": {},
   "source": [
    "# Problem 1: W Boson Mass\n",
    "\n",
    "Finding the *true* values of a quantity relies on analyzing results for many experiments. One quantity that has been measured many times is the W boson mass see Wikipedia https://en.wikipedia.org/wiki/W_and_Z_bosons and the particle data group (PDG) https://pdg.lbl.gov/2018/listings/rpp2018-list-w-boson.pdf \n",
    "\n",
    "**a)** In this problem you will analyze measurements of the W boson from various experiments and determine if the values are consistnet and given this data set, what the best fit value is. Start by reading in the data file Wmass_data.txt, which contains an experiment number, W mass in units of $GeV/c^2$ and its uncertainty.\n"
   ]
  },
  {
   "cell_type": "code",
   "execution_count": null,
   "metadata": {},
   "outputs": [],
   "source": []
  },
  {
   "cell_type": "code",
   "execution_count": 2,
   "metadata": {},
   "outputs": [],
   "source": [
    "file = open(\"data/Wmass_data.txt\")\n",
    "datalist = open(\"data/Wmass_data.txt\").read().split()\n",
    "expnum = datalist[0::3]\n",
    "expnum = [int(i) for i in expnum] \n",
    "mass = datalist[1::3]\n",
    "mass = [float(i) for i in mass]\n",
    "uncertt = datalist[2::3]\n",
    "uncertt = [float(i) for i in uncertt]"
   ]
  },
  {
   "cell_type": "markdown",
   "metadata": {},
   "source": [
    "**b)** Compute the error weighted mean of the W mass and its uncertainty. How does the weighted mean compare to the bold faced average of the PDG?\n",
    "This weighted mean is very close to the PDG average, it is only slightly higher."
   ]
  },
  {
   "cell_type": "code",
   "execution_count": 3,
   "metadata": {},
   "outputs": [
    {
     "name": "stdout",
     "output_type": "stream",
     "text": [
      "80.37914612783635\n",
      "0.010338187803490969\n"
     ]
    }
   ],
   "source": [
    "uncert = [1 / (i ** 2) for i in uncertt]\n",
    "unmass = [a * b for a, b in zip(mass, uncert)]\n",
    "mean = sum(unmass) / sum(uncert)\n",
    "print(mean)\n",
    "error = np.sqrt(1 / sum(uncert))\n",
    "print(error)"
   ]
  },
  {
   "cell_type": "markdown",
   "metadata": {},
   "source": [
    "**c)** Calculate the $\\chi^2$, degrees of freedom, reduced $\\chi^2$, and p-value. The p-value can be calculated using *gammaincc(dof / 2.0, chisq / 2.0)* from *scipy.special*. Based on the p-value are the data consistant? Since the P-value is close to 1, it is much higher than 0.05 or 0.01 which means that the fit is very good. This in fact suggests that the fit is too good to be realistic."
   ]
  },
  {
   "cell_type": "code",
   "execution_count": 4,
   "metadata": {},
   "outputs": [
    {
     "name": "stdout",
     "output_type": "stream",
     "text": [
      "Chi Squared: 8.70683651333262\n",
      "Degrees of Freedom: 8\n",
      "Reduced Chi Squared: 1.0883545641665775\n",
      "P-value: 0.3676272331907399\n"
     ]
    }
   ],
   "source": [
    "chi = [i - mean for i in mass]\n",
    "chisq = [i ** 2 / j ** 2 for i, j in zip(chi, uncertt)]\n",
    "chisq = sum(chisq)\n",
    "chisqs = str(chisq)\n",
    "print('Chi Squared: ' + chisqs)\n",
    "dof = len(mass) - 1\n",
    "dofs = str(dof)\n",
    "print('Degrees of Freedom: ' + dofs)\n",
    "redchi = chisq / dof\n",
    "redchis = str(redchi)\n",
    "print('Reduced Chi Squared: ' + redchis)\n",
    "p = scipy.special.gammaincc(dof/2 , chisq/2)\n",
    "ps = str(p)\n",
    "print('P-value: ' + ps)"
   ]
  },
  {
   "cell_type": "markdown",
   "metadata": {},
   "source": [
    "**d)** Plot the measurement number vs. the W mass. Don't forget to include the error bars on the W mass measurements. Then Fit a line of the form $y = p_0$, where $p_0$ is a constant parameter.\n",
    "\n",
    "How does your $p_0$ value compare to the weighted mean you calculated earlier in part b)? This value is slightly lower than the one calculated earlier but still very similar."
   ]
  },
  {
   "cell_type": "code",
   "execution_count": 80,
   "metadata": {},
   "outputs": [
    {
     "name": "stdout",
     "output_type": "stream",
     "text": [
      "Fit result: radius =  0.8752766666663946 +/- [0.25819889]\n"
     ]
    },
    {
     "data": {
      "image/png": "[encoded data removed]",
      "text/plain": [
       "<Figure size 432x288 with 1 Axes>"
      ]
     },
     "metadata": {},
     "output_type": "display_data"
    }
   ],
   "source": [
    "def pfun(t,a):\n",
    "    return a\n",
    "\n",
    "opt, cov = scipy.optimize.curve_fit(pfun, expnum, mass, sigma=None,absolute_sigma=True)\n",
    "fit_error = cov[0]**0.5\n",
    "print('Fit result: radius = ', opt[0], '+/-', fit_error)\n",
    "\n",
    "rad_fit = np.repeat(opt[0],len(expnum))\n",
    "rad_fit_uerror = np.repeat(opt[0]+fit_error,len(expnum))\n",
    "rad_fit_derror = np.repeat(opt[0]-fit_error,len(expnum))\n",
    "\n",
    "fig = plt.figure()\n",
    "axes = fig.add_axes([0.1,0.1,0.8,0.8])\n",
    "fig.patch.set_facecolor('xkcd:light blue grey')\n",
    "axes.patch.set_facecolor('xkcd:blueberry')\n",
    "axes.errorbar(mass, expnum,color='xkcd:golden rod', xerr = error, fmt='.', label = 'Data')\n",
    "axes.plot(rad_fit,expnum,color='xkcd:grapefruit',label = 'Fit')\n",
    "axes.set_xlabel('Mass')\n",
    "axes.set_ylabel('Measurement')\n",
    "axes.set_title('W Boson Mass')\n",
    "axes.legend();"
   ]
  },
  {
   "cell_type": "markdown",
   "metadata": {},
   "source": [
    "# Problem 2: Proton Charge Radius\n",
    "\n",
    "We will carry an identical analysis as we did in Problem 1, but on a different quantity, the proton charge radius. The proton charge radius has been a recent hot topic in the nuclear physics field, as new designed experiments using muonic hydorgen have made very percise measurements of it. See https://www.nature.com/articles/s41586-019-1721-2\n",
    "\n",
    "**a)** Import the data set proton_radius_data.txt, which includes the experiment number, the proton charge radius, and its uncertainty measured in $fm$. "
   ]
  },
  {
   "cell_type": "code",
   "execution_count": 6,
   "metadata": {},
   "outputs": [],
   "source": [
    "file = open(\"data/proton_radius_data.txt\")\n",
    "datalist = open(\"data/proton_radius_data.txt\").read().split()\n",
    "expnum = datalist[0::3]\n",
    "expnum = [int(i) for i in expnum] \n",
    "mass = datalist[1::3]\n",
    "mass = [float(i) for i in mass]\n",
    "uncert = datalist[2::3]\n",
    "uncert = [float(i) for i in uncert]"
   ]
  },
  {
   "cell_type": "markdown",
   "metadata": {},
   "source": [
    "**b)** Compute the error weighted mean of the proton charge radius and its uncertainty. \n",
    "\n",
    "You can also compare this to the PDG value (pgs. 6 and 7): https://pdg.lbl.gov/2018/listings/rpp2018-list-p.pdf "
   ]
  },
  {
   "cell_type": "code",
   "execution_count": 7,
   "metadata": {},
   "outputs": [
    {
     "name": "stdout",
     "output_type": "stream",
     "text": [
      "0.8785762353467624\n",
      "0.010338187803490969\n"
     ]
    }
   ],
   "source": [
    "uncert = [1 / (i ** 2) for i in uncertt]\n",
    "unmass = [a * b for a, b in zip(mass, uncert)]\n",
    "mean = sum(unmass) / sum(uncert)\n",
    "print(mean)\n",
    "error = np.sqrt(1 / sum(uncert))\n",
    "print(error)"
   ]
  },
  {
   "cell_type": "markdown",
   "metadata": {},
   "source": [
    "**c)** Calculate the  $\\chi^2$, degrees of freedom, reduced $\\chi^2$ and p-value. Based on the p-value are the data consistant? This p-value is pretty high in comparison to the previous p-value although I'm not sure exactly what the implications of this are. Do you see what all of the fuss is about."
   ]
  },
  {
   "cell_type": "code",
   "execution_count": 8,
   "metadata": {},
   "outputs": [
    {
     "name": "stdout",
     "output_type": "stream",
     "text": [
      "Chi Squared: 11.323894687888421\n",
      "Degrees of Freedom: 14\n",
      "Reduced Chi Squared: 0.8088496205634587\n",
      "P-value: 0.6604249904248113\n"
     ]
    }
   ],
   "source": [
    "chi = [i - mean for i in mass]\n",
    "chisq = [i ** 2 / j ** 2 for i, j in zip(chi, uncertt)]\n",
    "chisq = sum(chisq)\n",
    "chisqs = str(chisq)\n",
    "print('Chi Squared: ' + chisqs)\n",
    "dof = len(mass) - 1\n",
    "dofs = str(dof)\n",
    "print('Degrees of Freedom: ' + dofs)\n",
    "redchi = chisq / dof\n",
    "redchis = str(redchi)\n",
    "print('Reduced Chi Squared: ' + redchis)\n",
    "p = scipy.special.gammaincc(dof/2 , chisq/2)\n",
    "ps = str(p)\n",
    "print('P-value: ' + ps)"
   ]
  },
  {
   "cell_type": "markdown",
   "metadata": {},
   "source": [
    "**d)** Plot the measurement number vs. the proton charge radius. Don't forget to include the error bars on the proton charge radius measurements. Then Fit a line of the form  $y = p_0$ , where $p_0$ is a constant parameter.\n",
    "\n",
    "How does your $p_0$ value compare to the weighted mean you calculated earlier in part b)? The value for p0 is almost identical to the weighted mean calculated earlier."
   ]
  },
  {
   "cell_type": "code",
   "execution_count": 71,
   "metadata": {},
   "outputs": [
    {
     "name": "stdout",
     "output_type": "stream",
     "text": [
      "Fit result: radius =  0.8752766666663946 +/- [0.25819889]\n"
     ]
    },
    {
     "data": {
      "image/png": "[encoded data removed]",
      "text/plain": [
       "<Figure size 432x288 with 1 Axes>"
      ]
     },
     "metadata": {},
     "output_type": "display_data"
    }
   ],
   "source": [
    "def pfun(t,a):\n",
    "    return a\n",
    "\n",
    "opt, cov = scipy.optimize.curve_fit(pfun, expnum, mass, sigma=None,absolute_sigma=True)\n",
    "fit_error = cov[0]**0.5\n",
    "print('Fit result: radius = ', opt[0], '+/-', fit_error)\n",
    "\n",
    "rad_fit = np.repeat(opt[0],len(expnum))\n",
    "rad_fit_uerror = np.repeat(opt[0]+fit_error,len(expnum))\n",
    "rad_fit_derror = np.repeat(opt[0]-fit_error,len(expnum))\n",
    "\n",
    "fig = plt.figure()\n",
    "axes = fig.add_axes([0.1,0.1,0.8,0.8])\n",
    "fig.patch.set_facecolor('xkcd:dandelion')\n",
    "axes.patch.set_facecolor('xkcd:sunflower')\n",
    "axes.errorbar(mass, expnum,color='xkcd:orangered', xerr = error, fmt='.', label = 'Data')\n",
    "axes.plot(rad_fit,expnum,color='xkcd:claret',label = 'Fit')\n",
    "axes.set_xlabel('Charge Radius')\n",
    "axes.set_ylabel('Measurement')\n",
    "axes.set_title('Proton Charge Radius')\n",
    "axes.legend();"
   ]
  },
  {
   "cell_type": "markdown",
   "metadata": {},
   "source": [
    "# Problem 3: Selecting Data\n",
    "\n",
    "In particle physics we sometimes want to measure a particlular particle that is created from the many resulting from a collision in a particle collider. In recording these collision events we typically measure other particles which are not the ones we are intersted in. The events we are interested in we reffer to as our signal, whereas the ones we are not interested in we reffer to as a background. \n",
    "\n",
    "**a)** The provided data set (Ep_data.txt) contains values of particle energy/momentum (E/p), the number of particles, and the uncertainty on the number of particles. Import the data and plot the number of particles vs. E/p and be sure to include the error bars on the particle counts. "
   ]
  },
  {
   "cell_type": "code",
   "execution_count": 37,
   "metadata": {},
   "outputs": [
    {
     "data": {
      "image/png": "[encoded data removed]",
      "text/plain": [
       "<Figure size 432x288 with 1 Axes>"
      ]
     },
     "metadata": {},
     "output_type": "display_data"
    }
   ],
   "source": [
    "Eep, N, N_error = np.loadtxt('data/Ep_data.txt', unpack=True)\n",
    "file = open(\"data/Ep_data.txt\")\n",
    "datalist = open(\"data/Ep_data.txt\").read().split()\n",
    "ep = datalist[0::3]\n",
    "ep = [float(i) for i in ep] \n",
    "parnum = datalist[1::3]\n",
    "parnum = [float(i) for i in parnum]\n",
    "uncert = datalist[2::3]\n",
    "uncert = [float(i) for i in uncert]\n",
    "fig, ax = plt.subplots()\n",
    "plt.scatter(ep, parnum, s=10, c='xkcd:wine', edgecolors='xkcd:wine')\n",
    "fig.patch.set_facecolor('xkcd:salmon')\n",
    "ax.patch.set_facecolor('xkcd:blush')\n",
    "plt.errorbar(ep, parnum, uncert, c='xkcd:wine', fmt=' ')\n",
    "plt.xlabel('Particle energy/momentum')\n",
    "plt.ylabel('Number of particles')\n",
    "plt.title('Number of particles vs. E/p')\n",
    "plt.show()"
   ]
  },
  {
   "cell_type": "markdown",
   "metadata": {},
   "source": [
    "**b)** You should notice that there appear to be two clear distributions here. One which seems to be centered E/p = 0.6 and another around E/p = 1. The population at the lower E/p represent pions, whereas the population around E/p = 1 are electrons. For this exersice we will treat the pions as a background and the electrons as our signal. We will model each particle type to have a Gaussian distribution. Define two functions, one that returns a value computed from a Gaussian value, and anther function that returns a value computed from the sum of two Gaussian functions. Then make a fit to the data using the sum of two Gaussian functions. Each of your Gaussian functions can take the form of:\n",
    "\n",
    "$G_1(x) = p_1 e^{-(x-p_2)^2/(2p_3)}$\n",
    "\n",
    "where the $p_1, p_2,$ and $p_3$ are three parameters for the one Gaussian function. You will have 3 more different parameters for the other Gaussian function $G_2(x)$. \n",
    "\n",
    "Note: Did you get a negative value for the gaussian widths from your fit? We know that a negative value is not physical. Try to give some initial parameters for the fit to start with."
   ]
  },
  {
   "cell_type": "code",
   "execution_count": 11,
   "metadata": {},
   "outputs": [
    {
     "name": "stdout",
     "output_type": "stream",
     "text": [
      "[20.20939345  0.60123044  0.10293633  9.74415911  1.00366188  0.24358479]\n",
      "Chi squared: 108.4209410967578 Degrees of Freedom: 93 Reduced Chi Squared: 1.1658165709328796 P-value: 0.13094980581507487\n"
     ]
    }
   ],
   "source": [
    "def func_gaus(t,a,b,c):\n",
    "    return a*np.exp(-(t-b)**2/(2*c**2))\n",
    "def func_2gaus(t,a,b,c,d,e,f):\n",
    "    return a*np.exp(-(t-b)**2/(2*c**2)) + d*np.exp(-(t-e)**2/(2*f**2))\n",
    "par_init = np.array([25,0.5,0.1,10,1.0,0.5])\n",
    "opt, cov = scipy.optimize.curve_fit(func_2gaus, Eep, N, sigma=N_error, p0 = par_init, absolute_sigma=True)\n",
    "print(opt)\n",
    "\n",
    "chisq = np.sum((N - func_2gaus(Eep,*opt))**2/N_error**2)\n",
    "dof = len(Eep) - len(opt) - 1\n",
    "pvalue = scipy.special.gammaincc(dof/2.0, chisq/2.0)\n",
    "print(\"Chi squared:\", chisq, \"Degrees of Freedom:\", dof, \"Reduced Chi Squared:\", chisq/dof, \"P-value:\", pvalue)"
   ]
  },
  {
   "cell_type": "markdown",
   "metadata": {},
   "source": [
    "**c)** Calculate your $\\chi^2$, degrees of freedom, reduced $\\chi^2$, and p-value for the fit to the data.\n",
    "Based on those statistics above is this a good fit? Explain."
   ]
  },
  {
   "cell_type": "markdown",
   "metadata": {},
   "source": [
    "**d)** On the same graph, plot your data, the total fit to it, and the single Gaussian functions computed using the parameter results from your 2 Gaussian function fit."
   ]
  },
  {
   "cell_type": "code",
   "execution_count": 49,
   "metadata": {},
   "outputs": [
    {
     "data": {
      "image/png": "[encoded data removed]",
      "text/plain": [
       "<Figure size 432x288 with 1 Axes>"
      ]
     },
     "metadata": {},
     "output_type": "display_data"
    }
   ],
   "source": [
    "fig = plt.figure()\n",
    "axes = fig.add_axes([0.1,0.1,0.8,0.8])\n",
    "fig.patch.set_facecolor('xkcd:light blue grey')\n",
    "axes.patch.set_facecolor('xkcd:very dark blue')\n",
    "axes.errorbar(Eep,N,color='xkcd:steel', yerr=N_error, fmt='.', label = 'data')\n",
    "axes.set_xlabel('E/p');\n",
    "axes.plot(Eep,func_2gaus(Eep,*opt),color='xkcd:denim blue', label = 'total fit')\n",
    "axes.plot(Eep,func_gaus(Eep,opt[0],opt[1],opt[2]),color='xkcd:cerise',linestyle='dashed', label = 'pion fit')\n",
    "axes.plot(Eep,func_gaus(Eep,opt[3],opt[4],opt[5]),color='xkcd:marigold',linestyle='dashed', label = 'electron fit')\n",
    "axes.legend();"
   ]
  },
  {
   "cell_type": "markdown",
   "metadata": {},
   "source": [
    "**e)** We can use the $E/p$ distribution to try to select the maximum number of electron while minimizing the pions that *leak* into our electron signal. We can do this by requireing our selected sample to be larger than some $E/p$ threshold value. Any data that has an $E/p$ value lower then the threshold we throw it out. In a physics analysis this is called a cut. However we need to be careful, if we place a cut at $E/p$ that is too large we will have a really clean electron sample, but throw away a lot of good electrons. On the other hand if we make the $E/p$ cut too low we will keep most of our electrons, but let in a lot of background (pions). So we must compormise between clean data and statistics. To do this lets calculat the total number of electrons we have from $0.0 < E/p < 2$. This can be obtained by integrating (you can use scipy integrators, I used *integrate.quad* when doing this exersise)the electron contribution from our fit. We will call this number e_tot. Do a similar thing for the total pions and call that number pi_tot. \n",
    "\n",
    "For 10 equally spaced E/p thresholds between 0.3 and 0.8, calculate the number of electrons that are above each of the thresholds, we can call this array e_sig and can be obtained by integrating from the E/p threshold to the E/p = 2. Do a similar thing for the pion distribution. \n",
    "\n"
   ]
  },
  {
   "cell_type": "code",
   "execution_count": 13,
   "metadata": {},
   "outputs": [
    {
     "name": "stdout",
     "output_type": "stream",
     "text": [
      "E total =  [5.94931407e+00 7.38666335e-11]\n",
      "Pi total =  [5.21449067e+00 8.81993400e-09]\n"
     ]
    }
   ],
   "source": [
    "t0 = 0.0\n",
    "tf = 2.0\n",
    "\n",
    "e_tot = np.array(scipy.integrate.quad(func_gaus,t0,tf,args=(opt[3],opt[4],opt[5])))\n",
    "print('E total = ', e_tot)\n",
    "\n",
    "pi_tot = np.array(scipy.integrate.quad(func_gaus,t0,tf,args=(opt[0],opt[1],opt[2])))\n",
    "print('Pi total = ', pi_tot)\n",
    "\n",
    "step = np.linspace(0.3,0.8,10)\n",
    "e_sig = np.zeros( (len(step),2))\n",
    "pi_sig = np.zeros( (len(step),2))\n",
    "\n",
    "for i in range(0, len(step)):\n",
    "    t0 = step[i]\n",
    "    e_sig[i] = np.array(scipy.integrate.quad(func_gaus,t0,tf,args=(opt[3],opt[4],opt[5])))\n",
    "    pi_sig[i] = np.array(scipy.integrate.quad(func_gaus,t0,tf,args=(opt[0],opt[1],opt[2])))"
   ]
  },
  {
   "cell_type": "markdown",
   "metadata": {},
   "source": [
    "**f)** Plot the ratios e_sig/e_tot and pi_sig/pi_tot as a function of E/p threshold on the same graph. "
   ]
  },
  {
   "cell_type": "code",
   "execution_count": 56,
   "metadata": {},
   "outputs": [
    {
     "data": {
      "image/png": "[encoded data removed]",
      "text/plain": [
       "<Figure size 432x288 with 1 Axes>"
      ]
     },
     "metadata": {},
     "output_type": "display_data"
    }
   ],
   "source": [
    "fig = plt.figure()\n",
    "axes = fig.add_axes([0.1,0.1,0.8,0.8])\n",
    "fig.patch.set_facecolor('xkcd:ice')\n",
    "axes.patch.set_facecolor('xkcd:bluey grey')\n",
    "axes.plot(step,e_sig[:,0], 'o', color='xkcd:ice', label = 'electron')\n",
    "axes.plot(step,pi_sig[:,0], 'o',color='xkcd:marine', label = 'pion')\n",
    "axes.set_ylabel('Ratio')\n",
    "axes.set_xlabel('E/p Cut Threshold')\n",
    "axes.legend(loc=3);"
   ]
  },
  {
   "cell_type": "markdown",
   "metadata": {},
   "source": [
    "**g)** When the e_sig/etot ratio is 90%, how what percentage of the pion distribution is contaminating our electron sample?"
   ]
  },
  {
   "cell_type": "code",
   "execution_count": 15,
   "metadata": {},
   "outputs": [
    {
     "name": "stdout",
     "output_type": "stream",
     "text": [
      "Electron: 5.37%, Pion: 1.03%\n"
     ]
    }
   ],
   "source": [
    "print('Electron: {0:.2f}%, Pion: {1:.2f}%'.format(e_sig[7][0],pi_sig[7][0]))"
   ]
  },
  {
   "cell_type": "code",
   "execution_count": null,
   "metadata": {},
   "outputs": [],
   "source": []
  }
 ],
 "metadata": {
  "kernelspec": {
   "display_name": "Python 3",
   "language": "python",
   "name": "python3"
  },
  "language_info": {
   "codemirror_mode": {
    "name": "ipython",
    "version": 3
   },
   "file_extension": ".py",
   "mimetype": "text/x-python",
   "name": "python",
   "nbconvert_exporter": "python",
   "pygments_lexer": "ipython3",
   "version": "3.7.4"
  }
 },
 "nbformat": 4,
 "nbformat_minor": 4
}
