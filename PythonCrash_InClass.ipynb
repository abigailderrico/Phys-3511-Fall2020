{
 "cells": [
  {
   "cell_type": "markdown",
   "metadata": {},
   "source": [
    "# Python Crash Course In Class Notebook (Module 01)"
   ]
  },
  {
   "cell_type": "markdown",
   "metadata": {},
   "source": [
    "## Problem 1\n",
    "Write a basic function that counts the number of times the word 'you' appears in the quote text below from Richard Feynman. Make sure to account for capitalization."
   ]
  },
  {
   "cell_type": "code",
   "execution_count": 7,
   "metadata": {},
   "outputs": [
    {
     "name": "stdout",
     "output_type": "stream",
     "text": [
      "What I am going to tell you about is what we teach our physics students in the third or fourth year of graduate school... It is my task to convince you not to turn away because you don't understand it. You see my physics students don't understand it... That is because I don't understand it. Nobody does.\n",
      "4\n"
     ]
    }
   ],
   "source": [
    "text = \"What I am going to tell you about is what we teach our physics students in the third or fourth year of graduate school... It is my task to convince you not to turn away because you don't understand it. You see my physics students don't understand it... That is because I don't understand it. Nobody does.\"\n",
    "print(text)\n",
    "words = text.split()\n",
    "list = []\n",
    "for word in words:\n",
    "    if word == 'you':\n",
    "        list.append(word)\n",
    "    if word == 'You':\n",
    "        list.append(word)\n",
    "count = len(list)\n",
    "print(count)"
   ]
  },
  {
   "cell_type": "code",
   "execution_count": null,
   "metadata": {},
   "outputs": [],
   "source": []
  },
  {
   "cell_type": "markdown",
   "metadata": {},
   "source": [
    "## Problem 2 (problem taken from Jose Portilla from Pierian Data)\n",
    "You are driving a little too fast, and a police officer stops you. Write a function to return one of 3 possible results: \"No ticket\", \"Small ticket\", or \"Big Ticket\". If your speed is 60 mph or less, the result is \"No Ticket\". If speed is between 61 and 80 mph inclusive, the result is \"Small Ticket\". If speed is 81 mph or more, the result is \"Big Ticket\". Unless it is your birthday (encoded as a boolean value in the parameters of the function) -- on your birthday, your speed can be 5 mph higher in all cases."
   ]
  },
  {
   "cell_type": "markdown",
   "metadata": {},
   "source": [
    "import random as ran\n",
    "import time as tm\n",
    "z = ran.randrange(50 , 90)\n",
    "x = str(z)\n",
    "print(\"Hi there! I pulled you over because you were driving too fast!\")\n",
    "tm.sleep(1)\n",
    "a = ran.randrange(0 , 365)\n",
    "if a == 26:\n",
    "    z = z - 5\n",
    "    print(\"I see that it is your birthday. Congratulations!\")\n",
    "    tm.sleep(1)\n",
    "print(\"You were going \" + x + \" miles per hour.\")\n",
    "if z < 60:\n",
    "    y = \"No Ticket\"\n",
    "if z > 80:\n",
    "    y = \"Big Ticket\"\n",
    "else:\n",
    "     y = \"Small Ticket\"\n",
    "tm.sleep(1)\n",
    "print(\"This means you recieve a \" + y + \".\")"
   ]
  },
  {
   "cell_type": "code",
   "execution_count": null,
   "metadata": {},
   "outputs": [],
   "source": []
  },
  {
   "cell_type": "code",
   "execution_count": null,
   "metadata": {},
   "outputs": [],
   "source": []
  }
 ],
 "metadata": {
  "kernelspec": {
   "display_name": "Python 3",
   "language": "python",
   "name": "python3"
  },
  "language_info": {
   "codemirror_mode": {
    "name": "ipython",
    "version": 3
   },
   "file_extension": ".py",
   "mimetype": "text/x-python",
   "name": "python",
   "nbconvert_exporter": "python",
   "pygments_lexer": "ipython3",
   "version": "3.7.4"
  }
 },
 "nbformat": 4,
 "nbformat_minor": 4
}
